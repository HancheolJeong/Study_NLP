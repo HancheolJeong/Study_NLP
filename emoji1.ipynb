{
 "cells": [
  {
   "cell_type": "code",
   "execution_count": 5,
   "id": "c7d2f024",
   "metadata": {},
   "outputs": [],
   "source": [
    "from konlpy.tag import Okt\n",
    "\n",
    "def extract_keywords(search_query):\n",
    "    okt = Okt()\n",
    "    keywords = okt.nouns(search_query)\n",
    "    return keywords"
   ]
  },
  {
   "cell_type": "code",
   "execution_count": 6,
   "id": "1947ed26",
   "metadata": {},
   "outputs": [],
   "source": [
    "\"\"\"\n",
    "import mysql.connector\n",
    "\n",
    "def recommend_stickers(search_query):\n",
    "    # 데이터베이스에 연결한다.\n",
    "    connection = mysql.connector.connect(\n",
    "        host=\"127.0.0.1\",\n",
    "        user=\"jspbook\",\n",
    "        password=\"passwd\",\n",
    "        database=\"every\"\n",
    "    )\n",
    "\n",
    "    # 검색어와 연관된 키워드를 추출한다.\n",
    "    keywords = extract_keywords(search_query)\n",
    "\n",
    "    # 각 키워드와 가장 유사한 스티커를 찾아서 추천한다.\n",
    "    recommendations = []\n",
    "    for keyword in keywords:\n",
    "        similar_stickers = model.wv.most_similar(keyword)\n",
    "        for sticker in similar_stickers:\n",
    "            recommendations.append(sticker[0])\n",
    "\n",
    "    # 추천 결과에서 중복된 스티커를 제거한다.\n",
    "    recommendations = list(set(recommendations))\n",
    "\n",
    "    # 데이터베이스에서 추천된 스티커 정보를 가져온다.\n",
    "    cursor = connection.cursor()\n",
    "    query = \"SELECT * FROM tb_stickers WHERE name IN %s\"\n",
    "    values = (recommendations,)\n",
    "    cursor.execute(query, values)\n",
    "    result = cursor.fetchall()\n",
    "\n",
    "    # 데이터베이스 연결을 종료한다.\n",
    "    cursor.close()\n",
    "    connection.close()\n",
    "\n",
    "    # 추천된 스티커를 반환한다.\n",
    "    return result\n",
    "\"\"\"\n",
    "\n",
    "\n",
    "import mysql.connector\n",
    "\n",
    "def recommend_stickers(search_query):\n",
    "    # 데이터베이스에 연결한다.\n",
    "    connection = mysql.connector.connect(\n",
    "        host=\"127.0.0.1\",\n",
    "        user=\"jspbook\",\n",
    "        password=\"passwd\",\n",
    "        database=\"every\"\n",
    "    )\n",
    "\n",
    "    # 검색어와 연관된 키워드를 추출한다.\n",
    "    keywords = extract_keywords(search_query)\n",
    "\n",
    "    # 각 키워드와 가장 유사한 스티커를 찾아서 추천한다.\n",
    "    recommendations = []\n",
    "    for keyword in keywords:\n",
    "        similar_stickers = model.wv.most_similar(keyword)\n",
    "        for sticker in similar_stickers:\n",
    "            recommendations.append(sticker[0])\n",
    "\n",
    "    # 추천된 스티커를 가져올 때, 데이터베이스에서 리스트 형태로 전달하지 않도록 수정한다.\n",
    "    recommendations = list(set(recommendations))\n",
    "    recommendations_tuple = tuple(recommendations)\n",
    "\n",
    "    # 데이터베이스에서 추천된 스티커 정보를 가져온다.\n",
    "    cursor = connection.cursor()\n",
    "    query = \"SELECT * FROM tb_stickers WHERE name IN %s\"\n",
    "    values = (recommendations_tuple,)\n",
    "    cursor.execute(query, values)\n",
    "    result = cursor.fetchall()\n",
    "\n",
    "    # 데이터베이스 연결을 종료한다.\n",
    "    cursor.close()\n",
    "    connection.close()\n",
    "\n",
    "    # 추천된 스티커를 반환한다.\n",
    "    return result\n",
    "\n",
    "\n"
   ]
  },
  {
   "cell_type": "code",
   "execution_count": 7,
   "id": "3597dd70",
   "metadata": {},
   "outputs": [
    {
     "ename": "ProgrammingError",
     "evalue": "Failed processing format-parameters; Python 'tuple' cannot be converted to a MySQL type",
     "output_type": "error",
     "traceback": [
      "\u001b[1;31m---------------------------------------------------------------------------\u001b[0m",
      "\u001b[1;31mAttributeError\u001b[0m                            Traceback (most recent call last)",
      "\u001b[1;32m~\\anaconda3\\envs\\emoji1\\lib\\site-packages\\mysql\\connector\\conversion.py\u001b[0m in \u001b[0;36mto_mysql\u001b[1;34m(self, value)\u001b[0m\n\u001b[0;32m    182\u001b[0m         \u001b[1;32mtry\u001b[0m\u001b[1;33m:\u001b[0m\u001b[1;33m\u001b[0m\u001b[1;33m\u001b[0m\u001b[0m\n\u001b[1;32m--> 183\u001b[1;33m             \u001b[1;32mreturn\u001b[0m \u001b[0mgetattr\u001b[0m\u001b[1;33m(\u001b[0m\u001b[0mself\u001b[0m\u001b[1;33m,\u001b[0m \u001b[1;34m\"_{0}_to_mysql\"\u001b[0m\u001b[1;33m.\u001b[0m\u001b[0mformat\u001b[0m\u001b[1;33m(\u001b[0m\u001b[0mtype_name\u001b[0m\u001b[1;33m)\u001b[0m\u001b[1;33m)\u001b[0m\u001b[1;33m(\u001b[0m\u001b[0mvalue\u001b[0m\u001b[1;33m)\u001b[0m\u001b[1;33m\u001b[0m\u001b[1;33m\u001b[0m\u001b[0m\n\u001b[0m\u001b[0;32m    184\u001b[0m         \u001b[1;32mexcept\u001b[0m \u001b[0mAttributeError\u001b[0m\u001b[1;33m:\u001b[0m\u001b[1;33m\u001b[0m\u001b[1;33m\u001b[0m\u001b[0m\n",
      "\u001b[1;31mAttributeError\u001b[0m: 'MySQLConverter' object has no attribute '_tuple_to_mysql'",
      "\nDuring handling of the above exception, another exception occurred:\n",
      "\u001b[1;31mTypeError\u001b[0m                                 Traceback (most recent call last)",
      "\u001b[1;32m~\\anaconda3\\envs\\emoji1\\lib\\site-packages\\mysql\\connector\\cursor.py\u001b[0m in \u001b[0;36m_process_params\u001b[1;34m(self, params)\u001b[0m\n\u001b[0;32m    431\u001b[0m \u001b[1;33m\u001b[0m\u001b[0m\n\u001b[1;32m--> 432\u001b[1;33m             \u001b[0mres\u001b[0m \u001b[1;33m=\u001b[0m \u001b[1;33m[\u001b[0m\u001b[0mto_mysql\u001b[0m\u001b[1;33m(\u001b[0m\u001b[0mi\u001b[0m\u001b[1;33m)\u001b[0m \u001b[1;32mfor\u001b[0m \u001b[0mi\u001b[0m \u001b[1;32min\u001b[0m \u001b[0mres\u001b[0m\u001b[1;33m]\u001b[0m\u001b[1;33m\u001b[0m\u001b[1;33m\u001b[0m\u001b[0m\n\u001b[0m\u001b[0;32m    433\u001b[0m             \u001b[0mres\u001b[0m \u001b[1;33m=\u001b[0m \u001b[1;33m[\u001b[0m\u001b[0mescape\u001b[0m\u001b[1;33m(\u001b[0m\u001b[0mi\u001b[0m\u001b[1;33m)\u001b[0m \u001b[1;32mfor\u001b[0m \u001b[0mi\u001b[0m \u001b[1;32min\u001b[0m \u001b[0mres\u001b[0m\u001b[1;33m]\u001b[0m\u001b[1;33m\u001b[0m\u001b[1;33m\u001b[0m\u001b[0m\n",
      "\u001b[1;32m~\\anaconda3\\envs\\emoji1\\lib\\site-packages\\mysql\\connector\\cursor.py\u001b[0m in \u001b[0;36m<listcomp>\u001b[1;34m(.0)\u001b[0m\n\u001b[0;32m    431\u001b[0m \u001b[1;33m\u001b[0m\u001b[0m\n\u001b[1;32m--> 432\u001b[1;33m             \u001b[0mres\u001b[0m \u001b[1;33m=\u001b[0m \u001b[1;33m[\u001b[0m\u001b[0mto_mysql\u001b[0m\u001b[1;33m(\u001b[0m\u001b[0mi\u001b[0m\u001b[1;33m)\u001b[0m \u001b[1;32mfor\u001b[0m \u001b[0mi\u001b[0m \u001b[1;32min\u001b[0m \u001b[0mres\u001b[0m\u001b[1;33m]\u001b[0m\u001b[1;33m\u001b[0m\u001b[1;33m\u001b[0m\u001b[0m\n\u001b[0m\u001b[0;32m    433\u001b[0m             \u001b[0mres\u001b[0m \u001b[1;33m=\u001b[0m \u001b[1;33m[\u001b[0m\u001b[0mescape\u001b[0m\u001b[1;33m(\u001b[0m\u001b[0mi\u001b[0m\u001b[1;33m)\u001b[0m \u001b[1;32mfor\u001b[0m \u001b[0mi\u001b[0m \u001b[1;32min\u001b[0m \u001b[0mres\u001b[0m\u001b[1;33m]\u001b[0m\u001b[1;33m\u001b[0m\u001b[1;33m\u001b[0m\u001b[0m\n",
      "\u001b[1;32m~\\anaconda3\\envs\\emoji1\\lib\\site-packages\\mysql\\connector\\conversion.py\u001b[0m in \u001b[0;36mto_mysql\u001b[1;34m(self, value)\u001b[0m\n\u001b[0;32m    185\u001b[0m             raise TypeError(\"Python '{0}' cannot be converted to a \"\n\u001b[1;32m--> 186\u001b[1;33m                             \"MySQL type\".format(type_name))\n\u001b[0m\u001b[0;32m    187\u001b[0m \u001b[1;33m\u001b[0m\u001b[0m\n",
      "\u001b[1;31mTypeError\u001b[0m: Python 'tuple' cannot be converted to a MySQL type",
      "\nDuring handling of the above exception, another exception occurred:\n",
      "\u001b[1;31mProgrammingError\u001b[0m                          Traceback (most recent call last)",
      "\u001b[1;32m<ipython-input-7-cdc35d236435>\u001b[0m in \u001b[0;36m<module>\u001b[1;34m\u001b[0m\n\u001b[1;32m----> 1\u001b[1;33m \u001b[0mres\u001b[0m \u001b[1;33m=\u001b[0m \u001b[0mrecommend_stickers\u001b[0m\u001b[1;33m(\u001b[0m\u001b[1;34m'c'\u001b[0m\u001b[1;33m)\u001b[0m\u001b[1;33m\u001b[0m\u001b[1;33m\u001b[0m\u001b[0m\n\u001b[0m\u001b[0;32m      2\u001b[0m \u001b[1;33m\u001b[0m\u001b[0m\n\u001b[0;32m      3\u001b[0m \u001b[0mprint\u001b[0m\u001b[1;33m(\u001b[0m\u001b[0mres\u001b[0m\u001b[1;33m)\u001b[0m\u001b[1;33m\u001b[0m\u001b[1;33m\u001b[0m\u001b[0m\n",
      "\u001b[1;32m<ipython-input-6-e1d377904245>\u001b[0m in \u001b[0;36mrecommend_stickers\u001b[1;34m(search_query)\u001b[0m\n\u001b[0;32m     69\u001b[0m     \u001b[0mquery\u001b[0m \u001b[1;33m=\u001b[0m \u001b[1;34m\"SELECT * FROM tb_stickers WHERE name IN %s\"\u001b[0m\u001b[1;33m\u001b[0m\u001b[1;33m\u001b[0m\u001b[0m\n\u001b[0;32m     70\u001b[0m     \u001b[0mvalues\u001b[0m \u001b[1;33m=\u001b[0m \u001b[1;33m(\u001b[0m\u001b[0mrecommendations_tuple\u001b[0m\u001b[1;33m,\u001b[0m\u001b[1;33m)\u001b[0m\u001b[1;33m\u001b[0m\u001b[1;33m\u001b[0m\u001b[0m\n\u001b[1;32m---> 71\u001b[1;33m     \u001b[0mcursor\u001b[0m\u001b[1;33m.\u001b[0m\u001b[0mexecute\u001b[0m\u001b[1;33m(\u001b[0m\u001b[0mquery\u001b[0m\u001b[1;33m,\u001b[0m \u001b[0mvalues\u001b[0m\u001b[1;33m)\u001b[0m\u001b[1;33m\u001b[0m\u001b[1;33m\u001b[0m\u001b[0m\n\u001b[0m\u001b[0;32m     72\u001b[0m     \u001b[0mresult\u001b[0m \u001b[1;33m=\u001b[0m \u001b[0mcursor\u001b[0m\u001b[1;33m.\u001b[0m\u001b[0mfetchall\u001b[0m\u001b[1;33m(\u001b[0m\u001b[1;33m)\u001b[0m\u001b[1;33m\u001b[0m\u001b[1;33m\u001b[0m\u001b[0m\n\u001b[0;32m     73\u001b[0m \u001b[1;33m\u001b[0m\u001b[0m\n",
      "\u001b[1;32m~\\anaconda3\\envs\\emoji1\\lib\\site-packages\\mysql\\connector\\cursor.py\u001b[0m in \u001b[0;36mexecute\u001b[1;34m(self, operation, params, multi)\u001b[0m\n\u001b[0;32m    555\u001b[0m                     stmt, self._process_params_dict(params))\n\u001b[0;32m    556\u001b[0m             \u001b[1;32melif\u001b[0m \u001b[0misinstance\u001b[0m\u001b[1;33m(\u001b[0m\u001b[0mparams\u001b[0m\u001b[1;33m,\u001b[0m \u001b[1;33m(\u001b[0m\u001b[0mlist\u001b[0m\u001b[1;33m,\u001b[0m \u001b[0mtuple\u001b[0m\u001b[1;33m)\u001b[0m\u001b[1;33m)\u001b[0m\u001b[1;33m:\u001b[0m\u001b[1;33m\u001b[0m\u001b[1;33m\u001b[0m\u001b[0m\n\u001b[1;32m--> 557\u001b[1;33m                 \u001b[0mpsub\u001b[0m \u001b[1;33m=\u001b[0m \u001b[0m_ParamSubstitutor\u001b[0m\u001b[1;33m(\u001b[0m\u001b[0mself\u001b[0m\u001b[1;33m.\u001b[0m\u001b[0m_process_params\u001b[0m\u001b[1;33m(\u001b[0m\u001b[0mparams\u001b[0m\u001b[1;33m)\u001b[0m\u001b[1;33m)\u001b[0m\u001b[1;33m\u001b[0m\u001b[1;33m\u001b[0m\u001b[0m\n\u001b[0m\u001b[0;32m    558\u001b[0m                 \u001b[0mstmt\u001b[0m \u001b[1;33m=\u001b[0m \u001b[0mRE_PY_PARAM\u001b[0m\u001b[1;33m.\u001b[0m\u001b[0msub\u001b[0m\u001b[1;33m(\u001b[0m\u001b[0mpsub\u001b[0m\u001b[1;33m,\u001b[0m \u001b[0mstmt\u001b[0m\u001b[1;33m)\u001b[0m\u001b[1;33m\u001b[0m\u001b[1;33m\u001b[0m\u001b[0m\n\u001b[0;32m    559\u001b[0m                 \u001b[1;32mif\u001b[0m \u001b[0mpsub\u001b[0m\u001b[1;33m.\u001b[0m\u001b[0mremaining\u001b[0m \u001b[1;33m!=\u001b[0m \u001b[1;36m0\u001b[0m\u001b[1;33m:\u001b[0m\u001b[1;33m\u001b[0m\u001b[1;33m\u001b[0m\u001b[0m\n",
      "\u001b[1;32m~\\anaconda3\\envs\\emoji1\\lib\\site-packages\\mysql\\connector\\cursor.py\u001b[0m in \u001b[0;36m_process_params\u001b[1;34m(self, params)\u001b[0m\n\u001b[0;32m    435\u001b[0m         \u001b[1;32mexcept\u001b[0m \u001b[0mException\u001b[0m \u001b[1;32mas\u001b[0m \u001b[0merr\u001b[0m\u001b[1;33m:\u001b[0m\u001b[1;33m\u001b[0m\u001b[1;33m\u001b[0m\u001b[0m\n\u001b[0;32m    436\u001b[0m             raise errors.ProgrammingError(\n\u001b[1;32m--> 437\u001b[1;33m                 \"Failed processing format-parameters; %s\" % err)\n\u001b[0m\u001b[0;32m    438\u001b[0m         \u001b[1;32melse\u001b[0m\u001b[1;33m:\u001b[0m\u001b[1;33m\u001b[0m\u001b[1;33m\u001b[0m\u001b[0m\n\u001b[0;32m    439\u001b[0m             \u001b[1;32mreturn\u001b[0m \u001b[0mtuple\u001b[0m\u001b[1;33m(\u001b[0m\u001b[0mres\u001b[0m\u001b[1;33m)\u001b[0m\u001b[1;33m\u001b[0m\u001b[1;33m\u001b[0m\u001b[0m\n",
      "\u001b[1;31mProgrammingError\u001b[0m: Failed processing format-parameters; Python 'tuple' cannot be converted to a MySQL type"
     ]
    }
   ],
   "source": [
    "res = recommend_stickers('c')\n",
    "\n",
    "print(res)"
   ]
  },
  {
   "cell_type": "code",
   "execution_count": 1,
   "id": "1fa4dc62",
   "metadata": {},
   "outputs": [
    {
     "name": "stderr",
     "output_type": "stream",
     "text": [
      "[nltk_data] Downloading package punkt to\n",
      "[nltk_data]     C:\\Users\\juyz0\\AppData\\Roaming\\nltk_data...\n",
      "[nltk_data]   Unzipping tokenizers\\punkt.zip.\n",
      "[nltk_data] Downloading package stopwords to\n",
      "[nltk_data]     C:\\Users\\juyz0\\AppData\\Roaming\\nltk_data...\n",
      "[nltk_data]   Unzipping corpora\\stopwords.zip.\n",
      "[nltk_data] Downloading package wordnet to\n",
      "[nltk_data]     C:\\Users\\juyz0\\AppData\\Roaming\\nltk_data...\n"
     ]
    },
    {
     "data": {
      "text/plain": [
       "True"
      ]
     },
     "execution_count": 1,
     "metadata": {},
     "output_type": "execute_result"
    }
   ],
   "source": [
    "import nltk\n",
    "nltk.download('punkt')\n",
    "nltk.download('stopwords')\n",
    "nltk.download('wordnet')"
   ]
  },
  {
   "cell_type": "code",
   "execution_count": 6,
   "id": "ace112d4",
   "metadata": {},
   "outputs": [],
   "source": [
    "import mysql.connector\n",
    "import pandas as pd\n",
    "from nltk.tokenize import word_tokenize\n",
    "from nltk.corpus import stopwords\n",
    "from nltk.stem import WordNetLemmatizer\n",
    "from sklearn.feature_extraction.text import TfidfVectorizer\n",
    "\n",
    "def preprocess(text):\n",
    "    # 소문자로 변환합니다.\n",
    "    text = text.lower()\n",
    "\n",
    "    # 토큰화합니다.\n",
    "    tokens = word_tokenize(text)\n",
    "\n",
    "    # 불용어를 제거합니다.\n",
    "    stop_words = set(stopwords.words(\"english\"))\n",
    "    tokens = [token for token in tokens if token not in stop_words]\n",
    "\n",
    "    # 표제어 추출을 수행합니다.\n",
    "    lemmatizer = WordNetLemmatizer()\n",
    "    tokens = [lemmatizer.lemmatize(token) for token in tokens]\n",
    "\n",
    "    # 토큰들을 다시 결합하여 하나의 문자열로 만듭니다.\n",
    "    text = \" \".join(tokens)\n",
    "    return text\n",
    "\n",
    "def search_file_path(hostname, username, password, database, search_word):\n",
    "    # 데이터베이스에 연결합니다.\n",
    "    cnx = mysql.connector.connect(host=hostname, user=username, password=password, database=database)\n",
    "\n",
    "    # SQL 쿼리를 작성합니다. 모든 레코드를 읽어와 토큰화한 후 TF-IDF 벡터로 변환합니다.\n",
    "    query = f\"SELECT id, name, file_path FROM stickers\"\n",
    "    df = pd.read_sql(query, cnx)\n",
    "    df['name'] = df['name'].apply(preprocess)\n",
    "    vectorizer = TfidfVectorizer()\n",
    "    X = vectorizer.fit_transform(df['name'])\n",
    "\n",
    "    # 검색어를 토큰화하여 TF-IDF 벡터로 변환합니다.\n",
    "    search_word = preprocess(search_word)\n",
    "    search_vector = vectorizer.transform([search_word])\n",
    "\n",
    "    # 유사도를 계산합니다.\n",
    "    scores = X.dot(search_vector.T).toarray().flatten()\n",
    "    idxmax = scores.argmax()\n",
    "    print(scores)\n",
    "    result = df.loc[idxmax, 'file_path']\n",
    "\n",
    "    # 연결을 종료합니다.\n",
    "    cnx.close()\n",
    "\n",
    "    # 결과를 반환합니다.\n",
    "    return result"
   ]
  },
  {
   "cell_type": "code",
   "execution_count": 7,
   "id": "e3141aed",
   "metadata": {},
   "outputs": [
    {
     "name": "stdout",
     "output_type": "stream",
     "text": [
      "[0. 0. 0. 0. 0. 0. 0. 0. 0. 0. 0. 0. 0. 0. 0. 0. 0. 0. 0. 0.]\n"
     ]
    },
    {
     "data": {
      "text/plain": [
       "'temp1'"
      ]
     },
     "execution_count": 7,
     "metadata": {},
     "output_type": "execute_result"
    }
   ],
   "source": [
    "search_file_path('127.0.0.1', 'jspbook', 'passwd', 'every', 'fruit')"
   ]
  },
  {
   "cell_type": "code",
   "execution_count": 6,
   "id": "1a55ea78",
   "metadata": {},
   "outputs": [
    {
     "name": "stdout",
     "output_type": "stream",
     "text": [
      "The similarity between banana and apple is 0.8181818181818182\n"
     ]
    }
   ],
   "source": [
    "import nltk\n",
    "from nltk.corpus import wordnet\n",
    "\n",
    "# 두 단어의 유사도를 계산하는 함수\n",
    "def word_similarity(word1, word2):\n",
    "    # 각 단어의 동의어와 반의어를 가져옵니다.\n",
    "    synonyms1 = wordnet.synsets(word1)\n",
    "    synonyms2 = wordnet.synsets(word2)\n",
    "    \n",
    "    # 두 단어의 유사도를 계산합니다.\n",
    "    max_similarity = 0\n",
    "    for syn1 in synonyms1:\n",
    "        for syn2 in synonyms2:\n",
    "            similarity = syn1.wup_similarity(syn2)\n",
    "            if similarity is not None and similarity > max_similarity:\n",
    "                max_similarity = similarity\n",
    "    \n",
    "    return max_similarity\n",
    "\n",
    "# 두 단어의 유사도를 출력합니다.\n",
    "word1 = \"banana\"\n",
    "word2 = \"apple\"\n",
    "similarity = word_similarity(word1, word2)\n",
    "print(f\"The similarity between {word1} and {word2} is {similarity}\")"
   ]
  },
  {
   "cell_type": "code",
   "execution_count": 2,
   "id": "6635151a",
   "metadata": {},
   "outputs": [
    {
     "data": {
      "text/html": [
       "<div>\n",
       "<style scoped>\n",
       "    .dataframe tbody tr th:only-of-type {\n",
       "        vertical-align: middle;\n",
       "    }\n",
       "\n",
       "    .dataframe tbody tr th {\n",
       "        vertical-align: top;\n",
       "    }\n",
       "\n",
       "    .dataframe thead th {\n",
       "        text-align: right;\n",
       "    }\n",
       "</style>\n",
       "<table border=\"1\" class=\"dataframe\">\n",
       "  <thead>\n",
       "    <tr style=\"text-align: right;\">\n",
       "      <th></th>\n",
       "      <th>id</th>\n",
       "      <th>tag</th>\n",
       "    </tr>\n",
       "  </thead>\n",
       "  <tbody>\n",
       "    <tr>\n",
       "      <th>0</th>\n",
       "      <td>1</td>\n",
       "      <td>dog</td>\n",
       "    </tr>\n",
       "    <tr>\n",
       "      <th>1</th>\n",
       "      <td>2</td>\n",
       "      <td>cat</td>\n",
       "    </tr>\n",
       "    <tr>\n",
       "      <th>2</th>\n",
       "      <td>3</td>\n",
       "      <td>apple</td>\n",
       "    </tr>\n",
       "  </tbody>\n",
       "</table>\n",
       "</div>"
      ],
      "text/plain": [
       "   id    tag\n",
       "0   1    dog\n",
       "1   2    cat\n",
       "2   3  apple"
      ]
     },
     "execution_count": 2,
     "metadata": {},
     "output_type": "execute_result"
    }
   ],
   "source": [
    "import pandas as pd\n",
    "\n",
    "# DataFrame 생성\n",
    "df = pd.DataFrame({'id': [1, 2, 3], 'tag': ['dog', 'cat', 'apple']})\n",
    "\n",
    "# 결과 출력\n",
    "df"
   ]
  },
  {
   "cell_type": "code",
   "execution_count": 8,
   "id": "caae103f",
   "metadata": {},
   "outputs": [
    {
     "name": "stdout",
     "output_type": "stream",
     "text": [
      "   id    tag  score\n",
      "0   1    dog      0\n",
      "1   2    cat      0\n",
      "2   3  apple      0\n"
     ]
    }
   ],
   "source": [
    "import pandas as pd\n",
    "from nltk.corpus import wordnet\n",
    "\n",
    "# DataFrame 생성\n",
    "df = pd.DataFrame({'id': [1, 2, 3], 'tag': ['dog', 'cat', 'apple']})\n",
    "\n",
    "# 비교할 단어\n",
    "food = 'banana'\n",
    "\n",
    "# score 컬럼 추가\n",
    "df['score'] = 0\n",
    "\n",
    "# 단어 유사도 계산\n",
    "for i, row in df.iterrows():\n",
    "    tag = row['tag']\n",
    "    synsets_tag = wordnet.synsets(tag)\n",
    "    synsets_food = wordnet.synsets(food)\n",
    "    if synsets_tag and synsets_food:\n",
    "        score = synsets_tag[0].wup_similarity(synsets_food[0])\n",
    "        df.at[i, 'score'] = score\n",
    "\n",
    "# 결과 출력\n",
    "print(df)"
   ]
  },
  {
   "cell_type": "code",
   "execution_count": 10,
   "id": "d4c4be61",
   "metadata": {},
   "outputs": [
    {
     "name": "stdout",
     "output_type": "stream",
     "text": [
      "The similarity score between 'I love korea' and 'I adore canines' is 0.15\n"
     ]
    }
   ],
   "source": [
    "from nltk.corpus import wordnet\n",
    "from nltk.tokenize import word_tokenize\n",
    "\n",
    "# 문장을 입력합니다.\n",
    "sentence1 = \"I love dogs\"\n",
    "sentence2 = \"I adore canines\"\n",
    "\n",
    "# 문장을 단어로 분리합니다.\n",
    "words1 = word_tokenize(sentence1)\n",
    "words2 = word_tokenize(sentence2)\n",
    "\n",
    "# 단어 유사도를 계산합니다.\n",
    "similarity_scores = []\n",
    "for word1 in words1:\n",
    "    for word2 in words2:\n",
    "        # 두 단어 각각의 동의어 세트를 구합니다.\n",
    "        synsets1 = wordnet.synsets(word1)\n",
    "        synsets2 = wordnet.synsets(word2)\n",
    "        for synset1 in synsets1:\n",
    "            for synset2 in synsets2:\n",
    "                # 두 동의어 세트 간의 유사도를 계산합니다.\n",
    "                similarity = synset1.path_similarity(synset2)\n",
    "                if similarity is not None:\n",
    "                    similarity_scores.append(similarity)\n",
    "\n",
    "# 유사도 점수의 평균을 계산합니다.\n",
    "if similarity_scores:\n",
    "    average_similarity = sum(similarity_scores) / len(similarity_scores)\n",
    "    print(f\"The similarity score between '{sentence1}' and '{sentence2}' is {average_similarity:.2f}\")\n",
    "else:\n",
    "    print(\"No similarity scores found.\")"
   ]
  },
  {
   "cell_type": "code",
   "execution_count": 26,
   "id": "bc6b984e",
   "metadata": {},
   "outputs": [
    {
     "name": "stdout",
     "output_type": "stream",
     "text": [
      "monkey\n",
      "The similarity score between 'ape' and 'monkey' is 0.15\n",
      "cat\n",
      "The similarity score between 'ape' and 'cat' is 0.15\n",
      "dog\n",
      "The similarity score between 'ape' and 'dog' is 0.15\n",
      "   id     tag  score\n",
      "0   1  monkey      0\n",
      "1   2     cat      0\n",
      "2   3     dog      0\n"
     ]
    }
   ],
   "source": [
    "import pandas as pd\n",
    "from nltk.corpus import wordnet\n",
    "from nltk.tokenize import word_tokenize\n",
    "\n",
    "# DataFrame 생성\n",
    "df = pd.DataFrame({'id': [1, 2, 3], 'tag': ['monkey', 'cat', 'dog']})\n",
    "\n",
    "\n",
    "# score 컬럼 추가\n",
    "df['score'] = 0\n",
    "user_input_word = 'ape'\n",
    "user_input_words = word_tokenize(user_input_word)\n",
    "\n",
    "# 단어 유사도 계산\n",
    "for i, row in df.iterrows():\n",
    "    tag = df.at[i,'tag']\n",
    "    print(tag)\n",
    "    sticker_words = word_tokenize(tag)\n",
    "    similarity_scores = []\n",
    "    \n",
    "    for word1 in words1:\n",
    "        for word2 in words2:\n",
    "            # 두 단어 각각의 동의어 세트를 구합니다.\n",
    "            synsets1 = wordnet.synsets(word1)\n",
    "            synsets2 = wordnet.synsets(word2)\n",
    "            for synset1 in synsets1:\n",
    "                for synset2 in synsets2:\n",
    "                    # 두 동의어 세트 간의 유사도를 계산합니다.\n",
    "                    similarity = synset1.path_similarity(synset2)\n",
    "                    if similarity is not None:\n",
    "                        similarity_scores.append(similarity)\n",
    "    \n",
    "    if similarity_scores:\n",
    "        average_similarity = sum(similarity_scores) / len(similarity_scores)\n",
    "        print(f\"The similarity score between '{user_input_word}' and '{tag}' is {average_similarity:.2f}\")\n",
    "    else:\n",
    "        print(\"No similarity scores found.\")\n",
    "    \n",
    "\n",
    "# 결과 출력\n",
    "print(df)"
   ]
  },
  {
   "cell_type": "code",
   "execution_count": 21,
   "id": "4969babe",
   "metadata": {},
   "outputs": [
    {
     "name": "stdout",
     "output_type": "stream",
     "text": [
      "No similarity scores found.\n"
     ]
    }
   ],
   "source": [
    "from nltk.corpus import wordnet\n",
    "\n",
    "# \"big car\"와 \"huge vehicle\" 각각의 단어에 대한 동의어 세트를 구합니다.\n",
    "big_car_synsets = wordnet.synsets('big car')\n",
    "huge_vehicle_synsets = wordnet.synsets('huge vehicle')\n",
    "\n",
    "# 두 동의어 세트 간의 유사도를 계산합니다.\n",
    "similarity_scores = []\n",
    "for synset1 in big_car_synsets:\n",
    "    for synset2 in huge_vehicle_synsets:\n",
    "        similarity = synset1.path_similarity(synset2)\n",
    "        if similarity is not None:\n",
    "            similarity_scores.append(similarity)\n",
    "\n",
    "# 유사도 점수의 평균을 계산합니다.\n",
    "if similarity_scores:\n",
    "    average_similarity = sum(similarity_scores) / len(similarity_scores)\n",
    "    print(f\"The average similarity score between 'big car' and 'huge vehicle' is {average_similarity:.2f}\")\n",
    "else:\n",
    "    print(\"No similarity scores found.\")"
   ]
  },
  {
   "cell_type": "code",
   "execution_count": null,
   "id": "72262d66",
   "metadata": {},
   "outputs": [],
   "source": []
  }
 ],
 "metadata": {
  "kernelspec": {
   "display_name": "Python 3",
   "language": "python",
   "name": "python3"
  },
  "language_info": {
   "codemirror_mode": {
    "name": "ipython",
    "version": 3
   },
   "file_extension": ".py",
   "mimetype": "text/x-python",
   "name": "python",
   "nbconvert_exporter": "python",
   "pygments_lexer": "ipython3",
   "version": "3.6.13"
  }
 },
 "nbformat": 4,
 "nbformat_minor": 5
}
